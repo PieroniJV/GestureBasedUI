{
 "cells": [
  {
   "cell_type": "markdown",
   "metadata": {},
   "source": [
    "# Gesture-Based UI\n",
    "\n",
    "## Machine Learning\n",
    "\n",
    "### What is Machine Learning(ML)\n",
    "\n",
    "ML is a subfield of artificial intelligence that focuses on the development of algorithms and models that enable computers to learn and make predictions or decisions without being explicitly programmed. Computers learn from data and improve their performance on a task over time.\n",
    "\n",
    "### Key concepts\n",
    "- Data: label data in pair information\n",
    "- Algorithms:\n",
    "- Model Training:\n",
    "- Feature Engineering:\n",
    "- Supervised Learning:\n",
    "- Unsupervised Learning:\n",
    "- Semi-Supervised Learning:\n",
    "- Deep Learning:\n",
    "- Evaluation and Testing:\n",
    "\n",
    "### Why use ML?\n",
    "\n",
    "### Basic Example\n",
    "\n",
    "- Simple linear regression model:  $y = w0 + w1x$"
   ]
  }
 ],
 "metadata": {
  "language_info": {
   "name": "python"
  }
 },
 "nbformat": 4,
 "nbformat_minor": 2
}
