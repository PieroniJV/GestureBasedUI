{
 "cells": [
  {
   "cell_type": "markdown",
   "metadata": {},
   "source": [
    "- ML, what it is, how to do it. \n",
    "- Gesture Based: hands, pose, speech...\n",
    "- Python\n",
    "\n",
    "# Gesture-Based UI - Week 1\n",
    "\n",
    "## What is Machine Learning\n",
    "\n",
    "ML is a subfield of artificial intelligence that focuses on the development of algorithms and models that enable computers to learn and make predictions or decisions without being explicitly programmed. Computers learn from data and improve their performance on a task over time.\n",
    "\n",
    "### Key concepts\n",
    "- Data: label data in pair information\n",
    "- Algorithms:\n",
    "- Model Training:\n",
    "- Feature Engineering:\n",
    "- Supervised Learning:\n",
    "- Unsupervised Learning:\n",
    "- Semi-Supervised Learning:\n",
    "- Deep Learning:\n",
    "- Evaluation and Testing:\n",
    "\n",
    "\n",
    "## Why use ML?\n",
    "\n",
    "## Basic Example\n",
    "\n",
    "- Simple linear regression model:  $y = w0 + w1x$\n",
    "\n",
    "### Libraries\n",
    "\n",
    "- numpy\n",
    "- scikit-learn\n",
    "- matplotlib\n"
   ]
  }
 ],
 "metadata": {
  "language_info": {
   "name": "python"
  }
 },
 "nbformat": 4,
 "nbformat_minor": 2
}
